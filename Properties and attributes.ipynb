{
 "cells": [
  {
   "cell_type": "code",
   "execution_count": 1,
   "id": "07341df4",
   "metadata": {},
   "outputs": [],
   "source": [
    "import numpy as np"
   ]
  },
  {
   "cell_type": "code",
   "execution_count": 2,
   "id": "61c82527",
   "metadata": {},
   "outputs": [],
   "source": [
    "arr1 = np.array([1,2,3,4,5])"
   ]
  },
  {
   "cell_type": "code",
   "execution_count": 3,
   "id": "e1267ff2",
   "metadata": {},
   "outputs": [],
   "source": [
    "arr2 = np.array([[1,2,3],[4,5,6]])"
   ]
  },
  {
   "cell_type": "code",
   "execution_count": 7,
   "id": "fe2038d2",
   "metadata": {},
   "outputs": [
    {
     "data": {
      "text/plain": [
       "array([[[1, 2],\n",
       "        [3, 4]],\n",
       "\n",
       "       [[5, 6],\n",
       "        [7, 8]]])"
      ]
     },
     "execution_count": 7,
     "metadata": {},
     "output_type": "execute_result"
    }
   ],
   "source": [
    "arr3 = np.array([[[1,2],[3,4]],[[5,6],[7,8]]])\n",
    "arr3"
   ]
  },
  {
   "cell_type": "code",
   "execution_count": 17,
   "id": "bef3b743",
   "metadata": {},
   "outputs": [
    {
     "data": {
      "text/plain": [
       "array([10.        , 11.11111111, 12.22222222, 13.33333333, 14.44444444,\n",
       "       15.55555556, 16.66666667, 17.77777778, 18.88888889, 20.        ])"
      ]
     },
     "execution_count": 17,
     "metadata": {},
     "output_type": "execute_result"
    }
   ],
   "source": [
    "arr4 = np.linspace(10,20,10)\n",
    "arr4"
   ]
  },
  {
   "cell_type": "markdown",
   "id": "e69a11a2",
   "metadata": {},
   "source": [
    "# Shape"
   ]
  },
  {
   "cell_type": "markdown",
   "id": "b1f16fc8",
   "metadata": {},
   "source": [
    "## It shows the dimension of array in the form (no. of rows, no. of col)"
   ]
  },
  {
   "cell_type": "code",
   "execution_count": 5,
   "id": "82fc833f",
   "metadata": {},
   "outputs": [
    {
     "data": {
      "text/plain": [
       "(5,)"
      ]
     },
     "execution_count": 5,
     "metadata": {},
     "output_type": "execute_result"
    }
   ],
   "source": [
    "arr1.shape"
   ]
  },
  {
   "cell_type": "code",
   "execution_count": 6,
   "id": "e056aaf1",
   "metadata": {},
   "outputs": [
    {
     "data": {
      "text/plain": [
       "(2, 3)"
      ]
     },
     "execution_count": 6,
     "metadata": {},
     "output_type": "execute_result"
    }
   ],
   "source": [
    "arr2.shape"
   ]
  },
  {
   "cell_type": "code",
   "execution_count": 8,
   "id": "0f5f7540",
   "metadata": {},
   "outputs": [
    {
     "data": {
      "text/plain": [
       "(2, 2, 2)"
      ]
     },
     "execution_count": 8,
     "metadata": {},
     "output_type": "execute_result"
    }
   ],
   "source": [
    "arr3.shape"
   ]
  },
  {
   "cell_type": "markdown",
   "id": "aed87c25",
   "metadata": {},
   "source": [
    "for the case arr3 there are 2 lists in a single consisting of 2 rows and columns therefore in .shape we get three parameters 1. no. rows,2. no. of columns and 3. no. of entities "
   ]
  },
  {
   "cell_type": "markdown",
   "id": "875a234f",
   "metadata": {},
   "source": [
    "# nDim "
   ]
  },
  {
   "cell_type": "markdown",
   "id": "9e9c8eb9",
   "metadata": {},
   "source": [
    "## Gives the dimension of the array"
   ]
  },
  {
   "cell_type": "code",
   "execution_count": 9,
   "id": "4146e1df",
   "metadata": {},
   "outputs": [
    {
     "data": {
      "text/plain": [
       "1"
      ]
     },
     "execution_count": 9,
     "metadata": {},
     "output_type": "execute_result"
    }
   ],
   "source": [
    "arr1.ndim"
   ]
  },
  {
   "cell_type": "code",
   "execution_count": 10,
   "id": "2afbf7f5",
   "metadata": {},
   "outputs": [
    {
     "data": {
      "text/plain": [
       "2"
      ]
     },
     "execution_count": 10,
     "metadata": {},
     "output_type": "execute_result"
    }
   ],
   "source": [
    "arr2.ndim"
   ]
  },
  {
   "cell_type": "code",
   "execution_count": 11,
   "id": "35e897d3",
   "metadata": {},
   "outputs": [
    {
     "data": {
      "text/plain": [
       "3"
      ]
     },
     "execution_count": 11,
     "metadata": {},
     "output_type": "execute_result"
    }
   ],
   "source": [
    "arr3.ndim"
   ]
  },
  {
   "cell_type": "markdown",
   "id": "da3b0793",
   "metadata": {},
   "source": [
    "# Size"
   ]
  },
  {
   "cell_type": "markdown",
   "id": "e2a37e95",
   "metadata": {},
   "source": [
    "## gives no. of elements in n-d array"
   ]
  },
  {
   "cell_type": "code",
   "execution_count": 12,
   "id": "9ef49e22",
   "metadata": {},
   "outputs": [
    {
     "data": {
      "text/plain": [
       "5"
      ]
     },
     "execution_count": 12,
     "metadata": {},
     "output_type": "execute_result"
    }
   ],
   "source": [
    "arr1.size"
   ]
  },
  {
   "cell_type": "code",
   "execution_count": 13,
   "id": "50c48493",
   "metadata": {},
   "outputs": [
    {
     "data": {
      "text/plain": [
       "6"
      ]
     },
     "execution_count": 13,
     "metadata": {},
     "output_type": "execute_result"
    }
   ],
   "source": [
    "arr2.size"
   ]
  },
  {
   "cell_type": "code",
   "execution_count": 14,
   "id": "26d5772f",
   "metadata": {},
   "outputs": [
    {
     "data": {
      "text/plain": [
       "8"
      ]
     },
     "execution_count": 14,
     "metadata": {},
     "output_type": "execute_result"
    }
   ],
   "source": [
    "arr3.size"
   ]
  },
  {
   "cell_type": "markdown",
   "id": "71aa25b7",
   "metadata": {},
   "source": [
    "# Itemsize"
   ]
  },
  {
   "cell_type": "markdown",
   "id": "c3b43ea0",
   "metadata": {},
   "source": [
    "## gives the value of space occupied by the element in the array for eg int occupies 4 bits of space, float occupies 8 bits of space "
   ]
  },
  {
   "cell_type": "code",
   "execution_count": 15,
   "id": "2c626e23",
   "metadata": {},
   "outputs": [
    {
     "data": {
      "text/plain": [
       "4"
      ]
     },
     "execution_count": 15,
     "metadata": {},
     "output_type": "execute_result"
    }
   ],
   "source": [
    "arr1.itemsize"
   ]
  },
  {
   "cell_type": "code",
   "execution_count": 18,
   "id": "6cfea8d9",
   "metadata": {},
   "outputs": [
    {
     "data": {
      "text/plain": [
       "8"
      ]
     },
     "execution_count": 18,
     "metadata": {},
     "output_type": "execute_result"
    }
   ],
   "source": [
    "arr4.itemsize"
   ]
  },
  {
   "cell_type": "markdown",
   "id": "7dfed1eb",
   "metadata": {},
   "source": [
    "# Dtype"
   ]
  },
  {
   "cell_type": "markdown",
   "id": "a6201f91",
   "metadata": {},
   "source": [
    "## gives the datatype of elements store in array"
   ]
  },
  {
   "cell_type": "code",
   "execution_count": 19,
   "id": "941275ca",
   "metadata": {},
   "outputs": [
    {
     "data": {
      "text/plain": [
       "dtype('int32')"
      ]
     },
     "execution_count": 19,
     "metadata": {},
     "output_type": "execute_result"
    }
   ],
   "source": [
    "arr1.dtype"
   ]
  },
  {
   "cell_type": "code",
   "execution_count": 20,
   "id": "afb4460a",
   "metadata": {},
   "outputs": [
    {
     "data": {
      "text/plain": [
       "dtype('float64')"
      ]
     },
     "execution_count": 20,
     "metadata": {},
     "output_type": "execute_result"
    }
   ],
   "source": [
    "arr4.dtype"
   ]
  },
  {
   "cell_type": "markdown",
   "id": "35208335",
   "metadata": {},
   "source": [
    "# Astype "
   ]
  },
  {
   "cell_type": "markdown",
   "id": "8a85cf69",
   "metadata": {},
   "source": [
    "## changes the datatype as per the user need"
   ]
  },
  {
   "cell_type": "code",
   "execution_count": 21,
   "id": "f2322404",
   "metadata": {},
   "outputs": [
    {
     "data": {
      "text/plain": [
       "array([1., 2., 3., 4., 5.])"
      ]
     },
     "execution_count": 21,
     "metadata": {},
     "output_type": "execute_result"
    }
   ],
   "source": [
    "arr1.astype('float')"
   ]
  },
  {
   "cell_type": "code",
   "execution_count": 22,
   "id": "e9290756",
   "metadata": {},
   "outputs": [
    {
     "data": {
      "text/plain": [
       "array([10, 11, 12, 13, 14, 15, 16, 17, 18, 20])"
      ]
     },
     "execution_count": 22,
     "metadata": {},
     "output_type": "execute_result"
    }
   ],
   "source": [
    "arr4.astype('int')"
   ]
  },
  {
   "cell_type": "code",
   "execution_count": null,
   "id": "903176dc",
   "metadata": {},
   "outputs": [],
   "source": []
  }
 ],
 "metadata": {
  "kernelspec": {
   "display_name": "Python 3 (ipykernel)",
   "language": "python",
   "name": "python3"
  },
  "language_info": {
   "codemirror_mode": {
    "name": "ipython",
    "version": 3
   },
   "file_extension": ".py",
   "mimetype": "text/x-python",
   "name": "python",
   "nbconvert_exporter": "python",
   "pygments_lexer": "ipython3",
   "version": "3.10.9"
  }
 },
 "nbformat": 4,
 "nbformat_minor": 5
}
