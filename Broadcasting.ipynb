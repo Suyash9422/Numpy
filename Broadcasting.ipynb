{
 "cells": [
  {
   "cell_type": "markdown",
   "id": "8681a8b9",
   "metadata": {},
   "source": [
    "# Broadcasting"
   ]
  },
  {
   "cell_type": "markdown",
   "id": "780ee42d",
   "metadata": {},
   "source": [
    "## Broadcasting is a feature provided by numpy library with which we can perform any arithmetic operations on 2 matrices of any unequal ordered"
   ]
  },
  {
   "cell_type": "code",
   "execution_count": 1,
   "id": "b7305ad8",
   "metadata": {},
   "outputs": [],
   "source": [
    "import numpy as np"
   ]
  },
  {
   "cell_type": "markdown",
   "id": "3dc483cc",
   "metadata": {},
   "source": [
    "### case 1"
   ]
  },
  {
   "cell_type": "markdown",
   "id": "0a62f489",
   "metadata": {},
   "source": [
    "##### this is basic case where operation is carried on 2 matrices of same shape"
   ]
  },
  {
   "cell_type": "code",
   "execution_count": 3,
   "id": "f567b5d7",
   "metadata": {},
   "outputs": [
    {
     "name": "stdout",
     "output_type": "stream",
     "text": [
      "[[0 1 2 3]\n",
      " [4 5 6 7]]\n",
      "[[ 8  9 10 11]\n",
      " [12 13 14 15]]\n"
     ]
    }
   ],
   "source": [
    "a1 = np.arange(8).reshape(2,4)\n",
    "a2 = np.arange(8,16).reshape(2,4)\n",
    "\n",
    "print(a1)\n",
    "print(a2)"
   ]
  },
  {
   "cell_type": "code",
   "execution_count": 4,
   "id": "1f310ec1",
   "metadata": {},
   "outputs": [
    {
     "data": {
      "text/plain": [
       "array([[ 8, 10, 12, 14],\n",
       "       [16, 18, 20, 22]])"
      ]
     },
     "execution_count": 4,
     "metadata": {},
     "output_type": "execute_result"
    }
   ],
   "source": [
    "a1 + a2"
   ]
  },
  {
   "cell_type": "markdown",
   "id": "9de84c5e",
   "metadata": {},
   "source": [
    "### Case 2"
   ]
  },
  {
   "cell_type": "markdown",
   "id": "9caca161",
   "metadata": {},
   "source": [
    "##### in this case consider the shape of matrix 1 as n1,m1 and shape of matrix 2 as n2,m2.\n",
    "    "
   ]
  },
  {
   "cell_type": "markdown",
   "id": "fb5690c0",
   "metadata": {},
   "source": [
    "here n1 != n2 , but m1 = m2 and n1 transform stretches to req size i.e n2 ( eka row ni 2nd matrix chya sarvya rows var operation hoil )"
   ]
  },
  {
   "cell_type": "code",
   "execution_count": 5,
   "id": "8bbbd12a",
   "metadata": {},
   "outputs": [
    {
     "name": "stdout",
     "output_type": "stream",
     "text": [
      "[[0 1 2]\n",
      " [3 4 5]\n",
      " [6 7 8]]\n",
      "[[0 1 2]]\n"
     ]
    }
   ],
   "source": [
    "a3 = np.arange(9).reshape(3,3)\n",
    "a4 = np.arange(3).reshape(1,3)\n",
    "print(a3)\n",
    "print(a4)"
   ]
  },
  {
   "cell_type": "code",
   "execution_count": 6,
   "id": "37092df5",
   "metadata": {},
   "outputs": [
    {
     "data": {
      "text/plain": [
       "array([[ 0,  2,  4],\n",
       "       [ 3,  5,  7],\n",
       "       [ 6,  8, 10]])"
      ]
     },
     "execution_count": 6,
     "metadata": {},
     "output_type": "execute_result"
    }
   ],
   "source": [
    "a3 + a4 # [0,1,2] this row is added to all rows of 2nd matrix"
   ]
  },
  {
   "cell_type": "markdown",
   "id": "a88ee230",
   "metadata": {},
   "source": [
    "### Case 3"
   ]
  },
  {
   "cell_type": "markdown",
   "id": "8a38cf02",
   "metadata": {},
   "source": [
    "##### in this case If n1 = 1 and m1 = m2  then opertaion will take place"
   ]
  },
  {
   "cell_type": "code",
   "execution_count": 15,
   "id": "40b5acc7",
   "metadata": {},
   "outputs": [
    {
     "name": "stdout",
     "output_type": "stream",
     "text": [
      "[[0 1 2]]\n",
      "[[ 0  1  2]\n",
      " [ 3  4  5]\n",
      " [ 6  7  8]\n",
      " [ 9 10 11]]\n"
     ]
    }
   ],
   "source": [
    "a5 = np.arange(3).reshape(1,3)\n",
    "a6 = np.arange(12).reshape(4,3)\n",
    "print(a5)\n",
    "print(a6)"
   ]
  },
  {
   "cell_type": "code",
   "execution_count": 16,
   "id": "d7b7299d",
   "metadata": {},
   "outputs": [
    {
     "data": {
      "text/plain": [
       "array([[ 0,  2,  4],\n",
       "       [ 3,  5,  7],\n",
       "       [ 6,  8, 10],\n",
       "       [ 9, 11, 13]])"
      ]
     },
     "execution_count": 16,
     "metadata": {},
     "output_type": "execute_result"
    }
   ],
   "source": [
    "a5 + a6"
   ]
  },
  {
   "cell_type": "markdown",
   "id": "49bbb6be",
   "metadata": {},
   "source": [
    "### Case 4"
   ]
  },
  {
   "cell_type": "markdown",
   "id": "bd551028",
   "metadata": {},
   "source": [
    "##### in this case if n1=1 but m1!=m2 then there will be error"
   ]
  },
  {
   "cell_type": "code",
   "execution_count": 17,
   "id": "14632162",
   "metadata": {},
   "outputs": [
    {
     "name": "stdout",
     "output_type": "stream",
     "text": [
      "[[0 1 2]]\n",
      "[[ 0  1  2  3]\n",
      " [ 4  5  6  7]\n",
      " [ 8  9 10 11]\n",
      " [12 13 14 15]]\n"
     ]
    }
   ],
   "source": [
    "a7 = np.arange(3).reshape(1,3)\n",
    "a8 = np.arange(16).reshape(4,4)\n",
    "print(a7)\n",
    "print(a8)"
   ]
  },
  {
   "cell_type": "code",
   "execution_count": 18,
   "id": "21515176",
   "metadata": {},
   "outputs": [
    {
     "ename": "ValueError",
     "evalue": "operands could not be broadcast together with shapes (1,3) (4,4) ",
     "output_type": "error",
     "traceback": [
      "\u001b[1;31m---------------------------------------------------------------------------\u001b[0m",
      "\u001b[1;31mValueError\u001b[0m                                Traceback (most recent call last)",
      "Cell \u001b[1;32mIn[18], line 1\u001b[0m\n\u001b[1;32m----> 1\u001b[0m \u001b[43ma7\u001b[49m\u001b[43m \u001b[49m\u001b[38;5;241;43m+\u001b[39;49m\u001b[43m \u001b[49m\u001b[43ma8\u001b[49m\n",
      "\u001b[1;31mValueError\u001b[0m: operands could not be broadcast together with shapes (1,3) (4,4) "
     ]
    }
   ],
   "source": [
    "a7 + a8"
   ]
  },
  {
   "cell_type": "markdown",
   "id": "d43556c4",
   "metadata": {},
   "source": [
    "### Case 5"
   ]
  },
  {
   "cell_type": "markdown",
   "id": "6d035b58",
   "metadata": {},
   "source": [
    "##### in this case n1 =m2 =1 and m1==n2 operation will take place"
   ]
  },
  {
   "cell_type": "code",
   "execution_count": 19,
   "id": "9af913e0",
   "metadata": {},
   "outputs": [
    {
     "name": "stdout",
     "output_type": "stream",
     "text": [
      "[[0 1 2]]\n",
      "[[0]\n",
      " [1]\n",
      " [2]]\n"
     ]
    }
   ],
   "source": [
    "a9 = np.arange(3).reshape(1,3)\n",
    "a10 = np.arange(3).reshape(3,1)\n",
    "print(a9)\n",
    "print(a10)"
   ]
  },
  {
   "cell_type": "code",
   "execution_count": 20,
   "id": "b237425e",
   "metadata": {},
   "outputs": [
    {
     "data": {
      "text/plain": [
       "array([[0, 1, 2],\n",
       "       [1, 2, 3],\n",
       "       [2, 3, 4]])"
      ]
     },
     "execution_count": 20,
     "metadata": {},
     "output_type": "execute_result"
    }
   ],
   "source": [
    "a9 + a10"
   ]
  },
  {
   "cell_type": "markdown",
   "id": "84473341",
   "metadata": {},
   "source": [
    "### Case 6"
   ]
  },
  {
   "cell_type": "markdown",
   "id": "258fdb0e",
   "metadata": {},
   "source": [
    "##### in this case n1=m1=1 and n2,m2 = anything then operation will take place "
   ]
  },
  {
   "cell_type": "code",
   "execution_count": 21,
   "id": "7a66fe9e",
   "metadata": {},
   "outputs": [
    {
     "name": "stdout",
     "output_type": "stream",
     "text": [
      "[[0]]\n",
      "[[ 0  1  2  3]\n",
      " [ 4  5  6  7]\n",
      " [ 8  9 10 11]\n",
      " [12 13 14 15]\n",
      " [16 17 18 19]]\n"
     ]
    }
   ],
   "source": [
    "a11 = np.arange(1).reshape(1,1)\n",
    "a12 = np.arange(20).reshape(5,4)\n",
    "print(a11)\n",
    "print(a12)"
   ]
  },
  {
   "cell_type": "code",
   "execution_count": 22,
   "id": "977b5fc2",
   "metadata": {},
   "outputs": [
    {
     "data": {
      "text/plain": [
       "array([[ 0,  1,  2,  3],\n",
       "       [ 4,  5,  6,  7],\n",
       "       [ 8,  9, 10, 11],\n",
       "       [12, 13, 14, 15],\n",
       "       [16, 17, 18, 19]])"
      ]
     },
     "execution_count": 22,
     "metadata": {},
     "output_type": "execute_result"
    }
   ],
   "source": [
    "a11 + a12"
   ]
  },
  {
   "cell_type": "markdown",
   "id": "15a299d2",
   "metadata": {},
   "source": [
    "### Case 7"
   ]
  },
  {
   "cell_type": "markdown",
   "id": "6cd91e2f",
   "metadata": {},
   "source": [
    "##### in this case n1=m1=x ( x= any number ) and n2,m2 = any number then operation will take place"
   ]
  },
  {
   "cell_type": "code",
   "execution_count": 23,
   "id": "07a52300",
   "metadata": {},
   "outputs": [
    {
     "name": "stdout",
     "output_type": "stream",
     "text": [
      "[0 1 2 3]\n",
      "[[ 0  1  2  3]\n",
      " [ 4  5  6  7]\n",
      " [ 8  9 10 11]\n",
      " [12 13 14 15]\n",
      " [16 17 18 19]]\n"
     ]
    }
   ],
   "source": [
    "a13 = np.arange(4)\n",
    "a14 = np.arange(20).reshape(5,4)\n",
    "print(a13)\n",
    "print(a14)"
   ]
  },
  {
   "cell_type": "code",
   "execution_count": 24,
   "id": "dc8d1b01",
   "metadata": {},
   "outputs": [
    {
     "data": {
      "text/plain": [
       "array([[ 0,  2,  4,  6],\n",
       "       [ 4,  6,  8, 10],\n",
       "       [ 8, 10, 12, 14],\n",
       "       [12, 14, 16, 18],\n",
       "       [16, 18, 20, 22]])"
      ]
     },
     "execution_count": 24,
     "metadata": {},
     "output_type": "execute_result"
    }
   ],
   "source": [
    "a13 + a14"
   ]
  },
  {
   "cell_type": "code",
   "execution_count": null,
   "id": "50f34126",
   "metadata": {},
   "outputs": [],
   "source": []
  }
 ],
 "metadata": {
  "kernelspec": {
   "display_name": "Python 3 (ipykernel)",
   "language": "python",
   "name": "python3"
  },
  "language_info": {
   "codemirror_mode": {
    "name": "ipython",
    "version": 3
   },
   "file_extension": ".py",
   "mimetype": "text/x-python",
   "name": "python",
   "nbconvert_exporter": "python",
   "pygments_lexer": "ipython3",
   "version": "3.10.9"
  }
 },
 "nbformat": 4,
 "nbformat_minor": 5
}
