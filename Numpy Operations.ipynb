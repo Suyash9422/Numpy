{
 "cells": [
  {
   "cell_type": "code",
   "execution_count": 1,
   "id": "5b2564ad",
   "metadata": {},
   "outputs": [],
   "source": [
    "import numpy as np"
   ]
  },
  {
   "cell_type": "markdown",
   "id": "84bc7afd",
   "metadata": {},
   "source": [
    "# Basic operations on numpy array "
   ]
  },
  {
   "cell_type": "code",
   "execution_count": 2,
   "id": "624b777e",
   "metadata": {},
   "outputs": [],
   "source": [
    "arr1 = np.array([1,2,3,4,5,6])"
   ]
  },
  {
   "cell_type": "code",
   "execution_count": 3,
   "id": "0de479fc",
   "metadata": {},
   "outputs": [],
   "source": [
    "arr2 = np.array([4,5,6,7,8,9])"
   ]
  },
  {
   "cell_type": "markdown",
   "id": "01c7a35a",
   "metadata": {},
   "source": [
    "Substraction of all elements of arr2 from arr1"
   ]
  },
  {
   "cell_type": "code",
   "execution_count": 11,
   "id": "3bee6c69",
   "metadata": {},
   "outputs": [
    {
     "data": {
      "text/plain": [
       "array([-3, -3, -3, -3, -3, -3])"
      ]
     },
     "execution_count": 11,
     "metadata": {},
     "output_type": "execute_result"
    }
   ],
   "source": [
    "arr1-arr2"
   ]
  },
  {
   "cell_type": "markdown",
   "id": "4c16bf31",
   "metadata": {},
   "source": [
    "Addition of all elements of arr2 with arr1"
   ]
  },
  {
   "cell_type": "code",
   "execution_count": 5,
   "id": "12a2ca5c",
   "metadata": {},
   "outputs": [
    {
     "data": {
      "text/plain": [
       "array([ 5,  7,  9, 11, 13, 15])"
      ]
     },
     "execution_count": 5,
     "metadata": {},
     "output_type": "execute_result"
    }
   ],
   "source": [
    "arr1+arr2"
   ]
  },
  {
   "cell_type": "markdown",
   "id": "8bbbaecd",
   "metadata": {},
   "source": [
    "Multiplying each element of arr1 with each element of arr2 (vector multiplication )"
   ]
  },
  {
   "cell_type": "code",
   "execution_count": 7,
   "id": "8ed27d9d",
   "metadata": {},
   "outputs": [],
   "source": [
    "arr3 = arr1*arr2"
   ]
  },
  {
   "cell_type": "code",
   "execution_count": 8,
   "id": "48a1ee20",
   "metadata": {},
   "outputs": [
    {
     "data": {
      "text/plain": [
       "array([ 4, 10, 18, 28, 40, 54])"
      ]
     },
     "execution_count": 8,
     "metadata": {},
     "output_type": "execute_result"
    }
   ],
   "source": [
    "arr3"
   ]
  },
  {
   "cell_type": "markdown",
   "id": "7143c19c",
   "metadata": {},
   "source": [
    "Multiplying each element of arr1 with a number (scalar multiplication )"
   ]
  },
  {
   "cell_type": "code",
   "execution_count": 9,
   "id": "cebe4280",
   "metadata": {},
   "outputs": [
    {
     "data": {
      "text/plain": [
       "array([ 2,  4,  6,  8, 10, 12])"
      ]
     },
     "execution_count": 9,
     "metadata": {},
     "output_type": "execute_result"
    }
   ],
   "source": [
    "arr1*2"
   ]
  },
  {
   "cell_type": "markdown",
   "id": "7a49e8e0",
   "metadata": {},
   "source": [
    "this will give us boolean value whether the values in arr is greater or smaller than the number provided "
   ]
  },
  {
   "cell_type": "code",
   "execution_count": 12,
   "id": "31c2bcf4",
   "metadata": {},
   "outputs": [
    {
     "data": {
      "text/plain": [
       "array([ True,  True,  True,  True,  True,  True])"
      ]
     },
     "execution_count": 12,
     "metadata": {},
     "output_type": "execute_result"
    }
   ],
   "source": [
    "arr2>3"
   ]
  },
  {
   "cell_type": "code",
   "execution_count": 13,
   "id": "7042b93e",
   "metadata": {},
   "outputs": [
    {
     "data": {
      "text/plain": [
       "array([False, False, False,  True,  True,  True])"
      ]
     },
     "execution_count": 13,
     "metadata": {},
     "output_type": "execute_result"
    }
   ],
   "source": [
    "arr1>3"
   ]
  },
  {
   "cell_type": "markdown",
   "id": "47de1e4f",
   "metadata": {},
   "source": [
    "this dot function will convert the matrix in the form n1 * n2 i.e if we have 2 matrices of shape (n1=2 * m1=3) and (n2=3 * m2=2) first it will check whether the value of m1 is equal to n2 or not then it will convert it into n1 * m2"
   ]
  },
  {
   "cell_type": "code",
   "execution_count": 14,
   "id": "7e6ff80b",
   "metadata": {},
   "outputs": [],
   "source": [
    "arr4 = np.arange(6).reshape(2,3)\n",
    "arr5 = np.arange(12,18).reshape(3,2)"
   ]
  },
  {
   "cell_type": "code",
   "execution_count": 22,
   "id": "81559cdb",
   "metadata": {},
   "outputs": [
    {
     "data": {
      "text/plain": [
       "array([[0, 1, 2],\n",
       "       [3, 4, 5]])"
      ]
     },
     "execution_count": 22,
     "metadata": {},
     "output_type": "execute_result"
    }
   ],
   "source": [
    "arr4"
   ]
  },
  {
   "cell_type": "code",
   "execution_count": 18,
   "id": "a602771c",
   "metadata": {},
   "outputs": [
    {
     "data": {
      "text/plain": [
       "array([[ 46,  49],\n",
       "       [172, 184]])"
      ]
     },
     "execution_count": 18,
     "metadata": {},
     "output_type": "execute_result"
    }
   ],
   "source": [
    "arr4.dot(arr5)"
   ]
  },
  {
   "cell_type": "code",
   "execution_count": 23,
   "id": "1b7de527",
   "metadata": {},
   "outputs": [
    {
     "data": {
      "text/plain": [
       "array([[12, 13],\n",
       "       [14, 15],\n",
       "       [16, 17]])"
      ]
     },
     "execution_count": 23,
     "metadata": {},
     "output_type": "execute_result"
    }
   ],
   "source": [
    "arr5"
   ]
  },
  {
   "cell_type": "markdown",
   "id": "c618c327",
   "metadata": {},
   "source": [
    "gives minimum nd maximum values"
   ]
  },
  {
   "cell_type": "code",
   "execution_count": 19,
   "id": "0055739c",
   "metadata": {},
   "outputs": [
    {
     "data": {
      "text/plain": [
       "17"
      ]
     },
     "execution_count": 19,
     "metadata": {},
     "output_type": "execute_result"
    }
   ],
   "source": [
    "arr5.max()"
   ]
  },
  {
   "cell_type": "code",
   "execution_count": 20,
   "id": "62c81673",
   "metadata": {},
   "outputs": [
    {
     "data": {
      "text/plain": [
       "12"
      ]
     },
     "execution_count": 20,
     "metadata": {},
     "output_type": "execute_result"
    }
   ],
   "source": [
    "arr5.min()"
   ]
  },
  {
   "cell_type": "markdown",
   "id": "51523c80",
   "metadata": {},
   "source": [
    "gives min and max values from each row or from each col "
   ]
  },
  {
   "cell_type": "code",
   "execution_count": 21,
   "id": "ec8167a0",
   "metadata": {},
   "outputs": [
    {
     "data": {
      "text/plain": [
       "array([12, 13])"
      ]
     },
     "execution_count": 21,
     "metadata": {},
     "output_type": "execute_result"
    }
   ],
   "source": [
    "arr5.min(axis=0) #which row is minimum"
   ]
  },
  {
   "cell_type": "code",
   "execution_count": 24,
   "id": "12713215",
   "metadata": {},
   "outputs": [
    {
     "data": {
      "text/plain": [
       "array([12, 14, 16])"
      ]
     },
     "execution_count": 24,
     "metadata": {},
     "output_type": "execute_result"
    }
   ],
   "source": [
    "arr5.min(axis=1) #which col is minimum"
   ]
  },
  {
   "cell_type": "code",
   "execution_count": 25,
   "id": "9967ad6d",
   "metadata": {},
   "outputs": [
    {
     "data": {
      "text/plain": [
       "array([16, 17])"
      ]
     },
     "execution_count": 25,
     "metadata": {},
     "output_type": "execute_result"
    }
   ],
   "source": [
    "arr5.max(axis=0)"
   ]
  },
  {
   "cell_type": "code",
   "execution_count": 26,
   "id": "dcd0e3ff",
   "metadata": {},
   "outputs": [
    {
     "data": {
      "text/plain": [
       "array([13, 15, 17])"
      ]
     },
     "execution_count": 26,
     "metadata": {},
     "output_type": "execute_result"
    }
   ],
   "source": [
    "arr5.max(axis=1)"
   ]
  },
  {
   "cell_type": "markdown",
   "id": "7a50045f",
   "metadata": {},
   "source": [
    "calculate the sum of elements "
   ]
  },
  {
   "cell_type": "code",
   "execution_count": 27,
   "id": "06a58568",
   "metadata": {},
   "outputs": [
    {
     "data": {
      "text/plain": [
       "87"
      ]
     },
     "execution_count": 27,
     "metadata": {},
     "output_type": "execute_result"
    }
   ],
   "source": [
    "arr5.sum()"
   ]
  },
  {
   "cell_type": "code",
   "execution_count": 28,
   "id": "72e2d9aa",
   "metadata": {},
   "outputs": [
    {
     "data": {
      "text/plain": [
       "array([42, 45])"
      ]
     },
     "execution_count": 28,
     "metadata": {},
     "output_type": "execute_result"
    }
   ],
   "source": [
    "arr5.sum(axis=0) #col wise addition"
   ]
  },
  {
   "cell_type": "code",
   "execution_count": 29,
   "id": "e3449ba6",
   "metadata": {},
   "outputs": [
    {
     "data": {
      "text/plain": [
       "array([25, 29, 33])"
      ]
     },
     "execution_count": 29,
     "metadata": {},
     "output_type": "execute_result"
    }
   ],
   "source": [
    "arr5.sum(axis=1) #row wise addition"
   ]
  },
  {
   "cell_type": "code",
   "execution_count": 30,
   "id": "f69bd9ab",
   "metadata": {},
   "outputs": [
    {
     "data": {
      "text/plain": [
       "14.5"
      ]
     },
     "execution_count": 30,
     "metadata": {},
     "output_type": "execute_result"
    }
   ],
   "source": [
    "arr5.mean() #will calculate mean"
   ]
  },
  {
   "cell_type": "code",
   "execution_count": 31,
   "id": "de8a1242",
   "metadata": {},
   "outputs": [
    {
     "data": {
      "text/plain": [
       "1.707825127659933"
      ]
     },
     "execution_count": 31,
     "metadata": {},
     "output_type": "execute_result"
    }
   ],
   "source": [
    "arr5.std()"
   ]
  },
  {
   "cell_type": "code",
   "execution_count": 32,
   "id": "cf69d842",
   "metadata": {},
   "outputs": [
    {
     "data": {
      "text/plain": [
       "array([[-0.53657292,  0.42016704],\n",
       "       [ 0.99060736,  0.65028784],\n",
       "       [-0.28790332, -0.96139749]])"
      ]
     },
     "execution_count": 32,
     "metadata": {},
     "output_type": "execute_result"
    }
   ],
   "source": [
    "np.sin(arr5)"
   ]
  },
  {
   "cell_type": "code",
   "execution_count": 33,
   "id": "8d379069",
   "metadata": {},
   "outputs": [
    {
     "data": {
      "text/plain": [
       "14.5"
      ]
     },
     "execution_count": 33,
     "metadata": {},
     "output_type": "execute_result"
    }
   ],
   "source": [
    "np.median(arr5)"
   ]
  },
  {
   "cell_type": "markdown",
   "id": "f038ed7f",
   "metadata": {},
   "source": [
    "<RED>There are 2 different way of calling functions bcoz some functions are member funcs so need object to call it and some are normal functions . Also know as static and non-static functions<RED>"
   ]
  },
  {
   "cell_type": "code",
   "execution_count": 34,
   "id": "dc1497db",
   "metadata": {},
   "outputs": [
    {
     "data": {
      "text/plain": [
       "array([[  162754.791419  ,   442413.39200892],\n",
       "       [ 1202604.28416478,  3269017.37247211],\n",
       "       [ 8886110.52050787, 24154952.7535753 ]])"
      ]
     },
     "execution_count": 34,
     "metadata": {},
     "output_type": "execute_result"
    }
   ],
   "source": [
    "np.exp(arr5)"
   ]
  },
  {
   "cell_type": "code",
   "execution_count": null,
   "id": "5e5d3089",
   "metadata": {},
   "outputs": [],
   "source": []
  }
 ],
 "metadata": {
  "kernelspec": {
   "display_name": "Python 3 (ipykernel)",
   "language": "python",
   "name": "python3"
  },
  "language_info": {
   "codemirror_mode": {
    "name": "ipython",
    "version": 3
   },
   "file_extension": ".py",
   "mimetype": "text/x-python",
   "name": "python",
   "nbconvert_exporter": "python",
   "pygments_lexer": "ipython3",
   "version": "3.10.9"
  }
 },
 "nbformat": 4,
 "nbformat_minor": 5
}
