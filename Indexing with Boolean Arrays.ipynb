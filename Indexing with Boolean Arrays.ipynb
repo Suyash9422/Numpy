{
 "cells": [
  {
   "cell_type": "code",
   "execution_count": 1,
   "id": "5cad2cbf",
   "metadata": {},
   "outputs": [],
   "source": [
    "import numpy as np"
   ]
  },
  {
   "cell_type": "code",
   "execution_count": 2,
   "id": "bf0b90d4",
   "metadata": {},
   "outputs": [],
   "source": [
    "arr1 = np.random.randint(low=1,high=100,size=20).reshape(5,4)"
   ]
  },
  {
   "cell_type": "code",
   "execution_count": 3,
   "id": "24946a44",
   "metadata": {},
   "outputs": [
    {
     "data": {
      "text/plain": [
       "array([[35, 16, 51, 40],\n",
       "       [39,  5, 53, 97],\n",
       "       [39,  9, 61, 82],\n",
       "       [17, 35, 30, 78],\n",
       "       [75, 38, 98, 19]])"
      ]
     },
     "execution_count": 3,
     "metadata": {},
     "output_type": "execute_result"
    }
   ],
   "source": [
    "arr1"
   ]
  },
  {
   "cell_type": "markdown",
   "id": "b2388e5d",
   "metadata": {},
   "source": [
    "Normal indexing"
   ]
  },
  {
   "cell_type": "code",
   "execution_count": 4,
   "id": "a4c97412",
   "metadata": {},
   "outputs": [
    {
     "data": {
      "text/plain": [
       "9"
      ]
     },
     "execution_count": 4,
     "metadata": {},
     "output_type": "execute_result"
    }
   ],
   "source": [
    "arr1 [2][1]  "
   ]
  },
  {
   "cell_type": "markdown",
   "id": "5ef8b690",
   "metadata": {},
   "source": [
    "Conditional indexing"
   ]
  },
  {
   "cell_type": "code",
   "execution_count": 6,
   "id": "1050c924",
   "metadata": {},
   "outputs": [
    {
     "data": {
      "text/plain": [
       "array([[False, False,  True, False],\n",
       "       [False, False,  True,  True],\n",
       "       [False, False,  True,  True],\n",
       "       [False, False, False,  True],\n",
       "       [ True, False,  True, False]])"
      ]
     },
     "execution_count": 6,
     "metadata": {},
     "output_type": "execute_result"
    }
   ],
   "source": [
    "arr1>50  #checking elements greater than 50"
   ]
  },
  {
   "cell_type": "markdown",
   "id": "fc47f1ec",
   "metadata": {},
   "source": [
    "## Indexing using boolean arrays ( filtering )"
   ]
  },
  {
   "cell_type": "code",
   "execution_count": 8,
   "id": "aa404457",
   "metadata": {},
   "outputs": [
    {
     "data": {
      "text/plain": [
       "array([51, 53, 97, 61, 82, 78, 75, 98])"
      ]
     },
     "execution_count": 8,
     "metadata": {},
     "output_type": "execute_result"
    }
   ],
   "source": [
    "arr1[arr1>50]  #only those are true will be considered "
   ]
  },
  {
   "cell_type": "code",
   "execution_count": 11,
   "id": "75cb2e50",
   "metadata": {},
   "outputs": [
    {
     "data": {
      "text/plain": [
       "array([51, 53, 97, 61, 75])"
      ]
     },
     "execution_count": 11,
     "metadata": {},
     "output_type": "execute_result"
    }
   ],
   "source": [
    "arr1 [(arr1>50) & (arr1%2!=0)]"
   ]
  },
  {
   "cell_type": "code",
   "execution_count": 12,
   "id": "931c3251",
   "metadata": {},
   "outputs": [],
   "source": [
    "arr1 [(arr1>50) & (arr1%2!=0)] =0  #all true values will be converted to 0"
   ]
  },
  {
   "cell_type": "code",
   "execution_count": 13,
   "id": "db047400",
   "metadata": {},
   "outputs": [
    {
     "data": {
      "text/plain": [
       "array([[35, 16,  0, 40],\n",
       "       [39,  5,  0,  0],\n",
       "       [39,  9,  0, 82],\n",
       "       [17, 35, 30, 78],\n",
       "       [ 0, 38, 98, 19]])"
      ]
     },
     "execution_count": 13,
     "metadata": {},
     "output_type": "execute_result"
    }
   ],
   "source": [
    "arr1"
   ]
  },
  {
   "cell_type": "code",
   "execution_count": null,
   "id": "bbf4b532",
   "metadata": {},
   "outputs": [],
   "source": []
  }
 ],
 "metadata": {
  "kernelspec": {
   "display_name": "Python 3 (ipykernel)",
   "language": "python",
   "name": "python3"
  },
  "language_info": {
   "codemirror_mode": {
    "name": "ipython",
    "version": 3
   },
   "file_extension": ".py",
   "mimetype": "text/x-python",
   "name": "python",
   "nbconvert_exporter": "python",
   "pygments_lexer": "ipython3",
   "version": "3.10.9"
  }
 },
 "nbformat": 4,
 "nbformat_minor": 5
}
